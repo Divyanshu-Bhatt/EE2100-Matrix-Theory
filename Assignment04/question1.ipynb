{
 "cells": [
  {
   "cell_type": "code",
   "execution_count": 1,
   "metadata": {},
   "outputs": [],
   "source": [
    "import random\n",
    "import time"
   ]
  },
  {
   "cell_type": "markdown",
   "metadata": {},
   "source": [
    "## Compressed Sparse Row Representation"
   ]
  },
  {
   "cell_type": "markdown",
   "metadata": {},
   "source": [
    "Compression of a matrix is a way to store a matrix in a more efficient way. In this assignment, we will look at a way to compress a matrix that has a lot of zeros in it. This is called the Compressed Sparse Row Representation of a matrix.\n",
    "\n",
    "Let a matrix $\\mathbf A$. We denote the sparse matrix as a tuple $(\\mathbf{rows},\\mathbf{cols}, \\mathbf{data})$. The $\\mathbf{cols}$ store the index of the non-zero elements in each row and $\\mathbf{data}$ stores the corresponding value to it. The $i^{\\text{th}}$ element of the vector $\\mathbf{rows}$ stores the index where the $i^{\\text{th}}$ row starts in $\\mathbf{cols}$. Explaination with the help of an example will make the concept more clear.\n",
    "\n",
    "Consider a matrix $\\mathbf A \\in \\mathbb R^{4\\times 3}$ with the following entries\n",
    "\n",
    "$$\n",
    "\\mathbf A = \\begin{bmatrix}\n",
    "1 & 2 & 0\\\\\n",
    "0 & 0 & 0\\\\\n",
    "0 & 0 & 3\\\\\n",
    "0 & 4 & 0\\\\\n",
    "\\end{bmatrix}\n",
    "$$\n",
    "\n",
    "Then, the sparse representation of $A$ is given by \n",
    "\n",
    "$$\n",
    "\\begin{align*}\n",
    "\\mathbf{data} &= [1,2,3,4] \\\\ \n",
    "\\mathbf{rows} &= [0,2,2,3,4] \\\\ \n",
    "\\mathbf{cols} &= [0,1,2,1] \\\\ \n",
    "\\end{align*}\n",
    "$$\n",
    "\n",
    "The first element of $\\mathbf{rows}$ is always $0$. The second element becomes $2$ because there are $2$ non-zero elements in the $0^\\text{th}$ row. This means that, from the index $0$ to $2$ ($2$ exclusive), the vector $\\mathbf{cols}$ stores the indexes of the non-zero values of the $0^\\text{th}$ row. \n",
    "\n",
    "The third element is also $2$ because there are no non-zero element in the $1^\\text{st}$ row. The fourth element is $3$ because there is only $1$ non-zero element in the $2^\\text{nd}$ row. And so on. The last element is added in $\\mathbf {rows}$ which stores the number of rows in $\\mathbf A$. This is done so that we can easily find the number of rows in $\\mathbf A$.\n",
    "\n",
    "So all in all, apart from the first element being $0$ in the rows vectors, every other element is equal to the previous element plus the number of rows in ```index-1``` row."
   ]
  },
  {
   "cell_type": "code",
   "execution_count": 2,
   "metadata": {},
   "outputs": [],
   "source": [
    "class CSRMatrixRepresentation(object):\n",
    "    \"\"\"\n",
    "    A class to represent a matrix in CSR format.\n",
    "    \"\"\"\n",
    "    def __init__(self, matrix):\n",
    "        \"\"\"\n",
    "        Initializes the CSRMatrixRepresentation class.\n",
    "        \n",
    "        Parameters\n",
    "        ----------\n",
    "        matrix : list of lists\n",
    "            The matrix to be converted to CSR format.\n",
    "\n",
    "        Initializes\n",
    "        -----------\n",
    "        data : list\n",
    "            The non-zero elements of the matrix.\n",
    "        cols : list\n",
    "            The column index corresponding to the value\n",
    "        rows : list\n",
    "            The index of the first element in each row.\n",
    "        \"\"\"\n",
    "        # Convert matrix to CSR format\n",
    "        self.data, self.cols, self.rows = self.matrixToCSR(matrix)\n",
    "\n",
    "    def matrixToCSR(self, matrix):\n",
    "        \"\"\"\n",
    "        Converts a matrix to CSR format.\n",
    "        \n",
    "        Parameters\n",
    "        ----------\n",
    "        matrix : list of lists\n",
    "            The matrix to be converted to CSR format.\n",
    "            \n",
    "        Returns\n",
    "        -------\n",
    "        csrMatrix : dictionary of lists\n",
    "            The matrix in CSR format.\n",
    "        \"\"\"\n",
    "        rows = [0]\n",
    "        cols = []\n",
    "        data = []\n",
    "        \n",
    "        for i in range(len(matrix)):\n",
    "            for j in range(len(matrix[i])):\n",
    "                if matrix[i][j] != 0:\n",
    "                    data.append(matrix[i][j]) # Add non-zero element to data\n",
    "                    cols.append(j) # Add column index to cols\n",
    "            rows.append(len(data)) # Add index of first element in next row to rows\n",
    "        return data, cols, rows\n",
    "\n",
    "    def __str__(self):\n",
    "        \"\"\"\n",
    "        Prints the matrix in CSR format.\n",
    "        \"\"\"\n",
    "        return \"data: \" + str(self.data) + \"\\ncols: \" + str(self.cols) + \"\\nrows: \" + str(self.rows)\n",
    "\n",
    "    def matrixVectorMultiply(self, vector):\n",
    "        \"\"\"\n",
    "        Multiplies a matrix in CSR format by a vector.\n",
    "        \n",
    "        Parameters\n",
    "        ----------\n",
    "        vector : list\n",
    "            The vector to be multiplied by the matrix.\n",
    "            \n",
    "        Returns\n",
    "        -------\n",
    "        result : list\n",
    "            The result of the matrix-vector multiplication.\n",
    "        \"\"\"\n",
    "        result = [] \n",
    "        for i in range(len(self.rows) - 1):\n",
    "            summation = 0 \n",
    "            # Iterate through non-zero elements in row\n",
    "            # rows[i] is the index of the first element in row i\n",
    "            # rows[i + 1] is the index of the first element in row i + 1\n",
    "            for j in range(self.rows[i], self.rows[i + 1]):\n",
    "                summation += self.data[j] * vector[self.cols[j]] # Multiply non-zero element by corresponding vector element\n",
    "            result.append(summation)\n",
    "        return result"
   ]
  },
  {
   "cell_type": "code",
   "execution_count": 3,
   "metadata": {},
   "outputs": [],
   "source": [
    "# Generating a Random Sparse Matrix\n",
    "def generateRandomSparseMatrix(size, density, elements_range=(-5, 5)):\n",
    "    \"\"\"\n",
    "    Generates a random sparse matrix.\n",
    "    \n",
    "    Parameters\n",
    "    ----------\n",
    "    size : tuple \n",
    "        The size of the matrix.\n",
    "    elements_range : tuple\n",
    "        The range of the elements in the matrix.\n",
    "    density : float\n",
    "        The density of sparseness of the matrix.\n",
    "        \n",
    "    Returns\n",
    "    -------\n",
    "    matrix : list of lists\n",
    "        The random sparse matrix.\n",
    "    \"\"\"\n",
    "    matrix = []\n",
    "    for i in range(size[0]):\n",
    "        row = []\n",
    "        for j in range(size[1]):\n",
    "            # random.random() generates a number between 0 and 1 uniformly\n",
    "            # if random.random() < density, then the element is non-zero otherwise it is zero\n",
    "            if random.random() < density: \n",
    "                row.append(random.randint(elements_range[0], elements_range[1]))\n",
    "            else:\n",
    "                row.append(0)\n",
    "        matrix.append(row)\n",
    "    return matrix"
   ]
  },
  {
   "cell_type": "code",
   "execution_count": 4,
   "metadata": {},
   "outputs": [],
   "source": [
    "sparse_matrix = generateRandomSparseMatrix((10, 10), 0.1, (-10, 10))"
   ]
  },
  {
   "cell_type": "code",
   "execution_count": 5,
   "metadata": {},
   "outputs": [
    {
     "name": "stdout",
     "output_type": "stream",
     "text": [
      "Sparse Matrix:\n",
      "[0, 0, 0, 0, -5, 0, 0, 0, 0, 0]\n",
      "[0, 0, 0, 0, 0, 0, 0, 0, 0, 0]\n",
      "[0, 0, 0, 0, 0, 0, 0, 0, 0, 0]\n",
      "[0, 0, 0, 4, 0, 0, 0, 0, 0, -4]\n",
      "[0, 0, 0, 0, 0, 0, 0, 0, 0, 0]\n",
      "[0, 0, 0, 0, 0, 0, 0, 0, 0, 0]\n",
      "[0, 0, 0, -8, 0, 0, 0, -7, -7, 0]\n",
      "[0, 0, 0, 0, 0, 0, 0, 0, 0, 0]\n",
      "[0, 0, 0, 0, 0, 0, 0, 0, 0, 0]\n",
      "[6, 9, 0, 0, 0, 0, 0, 0, 0, 0]\n"
     ]
    }
   ],
   "source": [
    "print(\"Sparse Matrix:\")\n",
    "for row in sparse_matrix:\n",
    "    print(row)"
   ]
  },
  {
   "cell_type": "code",
   "execution_count": 6,
   "metadata": {},
   "outputs": [],
   "source": [
    "# Converting the Matrix to CSR Format\n",
    "csrA = CSRMatrixRepresentation(sparse_matrix)"
   ]
  },
  {
   "cell_type": "code",
   "execution_count": 7,
   "metadata": {},
   "outputs": [
    {
     "name": "stdout",
     "output_type": "stream",
     "text": [
      "Matrix in CSR format:\n",
      "data: [-5, 4, -4, -8, -7, -7, 6, 9]\n",
      "cols: [4, 3, 9, 3, 7, 8, 0, 1]\n",
      "rows: [0, 1, 1, 1, 3, 3, 3, 6, 6, 6, 8]\n"
     ]
    }
   ],
   "source": [
    "print(\"Matrix in CSR format:\") # Print matrix in CSR format\n",
    "print(csrA)"
   ]
  },
  {
   "cell_type": "code",
   "execution_count": 8,
   "metadata": {},
   "outputs": [
    {
     "name": "stdout",
     "output_type": "stream",
     "text": [
      "Vector:  [1, 9, 1, -1, -7, -1, 0, 7, 3, -5]\n"
     ]
    }
   ],
   "source": [
    "# Generating a Random Vector\n",
    "vector = [random.randint(-10, 10) for i in range(10)]\n",
    "print(\"Vector: \", vector)"
   ]
  },
  {
   "cell_type": "code",
   "execution_count": 9,
   "metadata": {},
   "outputs": [
    {
     "name": "stdout",
     "output_type": "stream",
     "text": [
      "Matrix Vector Multiplication Result:  [35, 0, 0, 16, 0, 0, -62, 0, 0, 87]\n"
     ]
    }
   ],
   "source": [
    "print(\"Matrix Vector Multiplication Result: \", csrA.matrixVectorMultiply(vector)) # Print matrix-vector multiplication result"
   ]
  },
  {
   "cell_type": "code",
   "execution_count": 10,
   "metadata": {},
   "outputs": [
    {
     "name": "stdout",
     "output_type": "stream",
     "text": [
      "Numpy Matrix Vector Multiplication Result:  [ 35   0   0  16   0   0 -62   0   0  87]\n"
     ]
    }
   ],
   "source": [
    "# Computing using Numpy for comparision\n",
    "import numpy as np \n",
    "matrix = np.array(sparse_matrix)\n",
    "vector = np.array(vector)\n",
    "\n",
    "print(\"Numpy Matrix Vector Multiplication Result: \", matrix.dot(vector))"
   ]
  },
  {
   "cell_type": "code",
   "execution_count": 11,
   "metadata": {},
   "outputs": [],
   "source": [
    "# Comapring time for a large sparse matrix\n",
    "sparse_matrix = generateRandomSparseMatrix((100, 100), 0.01, (-10, 10))\n",
    "csrA = CSRMatrixRepresentation(sparse_matrix)\n",
    "vector = [random.randint(-10, 10) for i in range(100)]"
   ]
  },
  {
   "cell_type": "code",
   "execution_count": 12,
   "metadata": {},
   "outputs": [
    {
     "name": "stdout",
     "output_type": "stream",
     "text": [
      "Time taken for large sparse matrix:  0.0001249313  seconds\n",
      "Time taken for large sparse matrix using Numpy:  0.0003130436  seconds\n"
     ]
    }
   ],
   "source": [
    "start = time.time() # Start timer\n",
    "csrA.matrixVectorMultiply(vector)\n",
    "end = time.time() # End timer\n",
    "print(\"Time taken for large sparse matrix: \", round(end - start, 10), \" seconds\") # Print time taken\n",
    "\n",
    "matrix = np.array(sparse_matrix)\n",
    "vector = np.array(vector)\n",
    "\n",
    "start = time.time() # Start timer\n",
    "matrix.dot(vector)\n",
    "end = time.time() # End timer\n",
    "print(\"Time taken for large sparse matrix using Numpy: \", round(end - start, 10), \" seconds\") # Print time taken"
   ]
  },
  {
   "cell_type": "markdown",
   "metadata": {},
   "source": [
    "The ```numpy``` library is written in C and is well optimised for matrix-vector operations. If we would have implemented the matrix-vector multiplication in Python using nested for loops and lists, it would have been slower than the ```numpy``` implementation. \n",
    "\n",
    "We can see that the sparse representation is running equally fast as the optimised ```numpy``` implementation. Hence, the CSR representation is a good way to represent sparse matrices."
   ]
  }
 ],
 "metadata": {
  "kernelspec": {
   "display_name": "pytorch_env",
   "language": "python",
   "name": "python3"
  },
  "language_info": {
   "codemirror_mode": {
    "name": "ipython",
    "version": 3
   },
   "file_extension": ".py",
   "mimetype": "text/x-python",
   "name": "python",
   "nbconvert_exporter": "python",
   "pygments_lexer": "ipython3",
   "version": "3.9.13"
  },
  "orig_nbformat": 4
 },
 "nbformat": 4,
 "nbformat_minor": 2
}
