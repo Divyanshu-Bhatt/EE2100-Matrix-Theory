{
 "cells": [
  {
   "cell_type": "code",
   "execution_count": 1,
   "metadata": {},
   "outputs": [],
   "source": [
    "import math\n",
    "import time\n",
    "import random"
   ]
  },
  {
   "cell_type": "markdown",
   "metadata": {},
   "source": [
    "### Helper Functions "
   ]
  },
  {
   "cell_type": "code",
   "execution_count": 2,
   "metadata": {},
   "outputs": [],
   "source": [
    "def scalarVectorProduct(scalar, vector):\n",
    "    \"\"\"\n",
    "    This function multiplies a scalar with a vector.\n",
    "\n",
    "    Parameters\n",
    "    ----------\n",
    "    scalar : float\n",
    "        Scalar.\n",
    "    vector : list\n",
    "        List of numbers.\n",
    "    \"\"\"\n",
    "\n",
    "    output = []\n",
    "    for i in range(len(vector)):\n",
    "        output.append(scalar * vector[i])\n",
    "\n",
    "    return output"
   ]
  },
  {
   "cell_type": "code",
   "execution_count": 3,
   "metadata": {},
   "outputs": [],
   "source": [
    "def addTwoVectors(vector1, vector2):\n",
    "    \"\"\"\n",
    "    This function adds two vectors.\n",
    "\n",
    "    Parameters\n",
    "    ----------\n",
    "    vector1 : list\n",
    "        List of numbers.\n",
    "    vector2 : list\n",
    "        List of numbers.\n",
    "    \"\"\"\n",
    "\n",
    "    output = []\n",
    "    for i in range(len(vector1)):\n",
    "        output.append(vector1[i] + vector2[i])\n",
    "\n",
    "    return output"
   ]
  },
  {
   "cell_type": "code",
   "execution_count": 4,
   "metadata": {},
   "outputs": [],
   "source": [
    "def generateRandomMatrix(size, density, elements_range=(-5, 5)):\n",
    "    \"\"\"\n",
    "    Generates a random matrix given the density of sparseness.\n",
    "    \n",
    "    Parameters\n",
    "    ----------\n",
    "    size : tuple \n",
    "        The size of the matrix.\n",
    "    elements_range : tuple\n",
    "        The range of the elements in the matrix.\n",
    "    density : float\n",
    "        The density of sparseness of the matrix.\n",
    "        \n",
    "    Returns\n",
    "    -------\n",
    "    matrix : list of lists\n",
    "        The random sparse matrix.\n",
    "    \"\"\"\n",
    "    matrix = []\n",
    "    for i in range(size[0]):\n",
    "        row = []\n",
    "        for j in range(size[1]):\n",
    "            # random.random() generates a number between 0 and 1 uniformly\n",
    "            # if random.random() < density, then the element is non-zero otherwise it is zero\n",
    "            if random.random() < density: \n",
    "                row.append(random.randint(elements_range[0], elements_range[1]))\n",
    "            else:\n",
    "                row.append(0)\n",
    "        matrix.append(row)\n",
    "    return matrix"
   ]
  },
  {
   "cell_type": "code",
   "execution_count": 5,
   "metadata": {},
   "outputs": [],
   "source": [
    "def printMatrix(matrix):\n",
    "    \"\"\"\n",
    "    Prints the solution of the problem.\n",
    "    \n",
    "    Parameters\n",
    "    ----------\n",
    "    matrix : list of lists\n",
    "        The matrix to be printed.\n",
    "    \"\"\"\n",
    "    for i in range(len(matrix)):\n",
    "        print(matrix[i])"
   ]
  },
  {
   "cell_type": "markdown",
   "metadata": {},
   "source": [
    "### Main Code "
   ]
  },
  {
   "cell_type": "code",
   "execution_count": 6,
   "metadata": {},
   "outputs": [],
   "source": [
    "def swapRows(self, k):\n",
    "    \"\"\"\n",
    "    Swaps rows if the kth element in the kth column is zero\n",
    "\n",
    "    Parameters\n",
    "    ----------\n",
    "    k : int\n",
    "        Row number\n",
    "    \n",
    "    Returns\n",
    "    -------\n",
    "    bool\n",
    "        True if A[k][k] != 0 otherwise False\n",
    "    \"\"\"\n",
    "\n",
    "    if self[k][k] == 0:\n",
    "        for i in range(k+1, len(self)):\n",
    "            if self[i][k] != 0:\n",
    "                self[k], self[i] = self[i], self[k]\n",
    "                return True\n",
    "        return False\n",
    "    return True"
   ]
  },
  {
   "cell_type": "code",
   "execution_count": 7,
   "metadata": {},
   "outputs": [],
   "source": [
    "def determinantGaussianElimination(input_matrix):\n",
    "    \"\"\"\n",
    "    Calculates the determinant of a matrix using Gaussian elimination.\n",
    "\n",
    "    Parameters\n",
    "    ----------\n",
    "    input_matrix : list of lists\n",
    "        The matrix.\n",
    "    \"\"\"\n",
    "    matrix = input_matrix.copy()     # Copying the matrix to avoid changing the original matrix\n",
    "\n",
    "    if len(matrix) != len(matrix[0]):\n",
    "        raise Exception(\"The matrix is not square!\")\n",
    "\n",
    "    # Converting matrix to upper triangular form\n",
    "    determinant = 1\n",
    "    for k in range(len(matrix)):\n",
    "        if matrix[k][k] == 0:           # If the kth element in the kth column is zero, swap rows if possible\n",
    "            if not swapRows(matrix, k): # If not possible then determinant will be zero\n",
    "                return 0\n",
    "            else:\n",
    "                determinant *= -1       # If possible then determinant will get changed by a factor of -1\n",
    "\n",
    "        for i in range(k+1, len(matrix)):\n",
    "            factor = matrix[i][k] / matrix[k][k]\n",
    "            # Subtracting the kth row from the ith row, (doesn't change the determinant)\n",
    "            matrix[i] = addTwoVectors(matrix[i], scalarVectorProduct(-factor, matrix[k])) # R_i = R_i - factor*R_(row_num) \n",
    "        \n",
    "        determinant *= matrix[k][k] # Multiplying the diagonal elements to get the determinant\n",
    "\n",
    "    return determinant"
   ]
  },
  {
   "cell_type": "code",
   "execution_count": 8,
   "metadata": {},
   "outputs": [],
   "source": [
    "def subMatrixCalculator(input_matrix, index):\n",
    "    \"\"\"\n",
    "    Calculates the submatrix of a matrix.\n",
    "\n",
    "    Parameters\n",
    "    ----------\n",
    "    input_matrix : list of lists\n",
    "        The matrix.\n",
    "    index : tuple\n",
    "        The index of the element about which the submatrix is calculated.\n",
    "    \"\"\"\n",
    "    matrix = input_matrix.copy()     # Copying the matrix to avoid changing the original matrix\n",
    "\n",
    "    submatrix = []\n",
    "    for i in range(len(matrix)):\n",
    "        if i != index[0]:                   # don't include the elements of index[0] row\n",
    "            row = []\n",
    "            for j in range(len(matrix[0])):\n",
    "                if j != index[1]:           # don't include the elements of index[1] column\n",
    "                    row.append(matrix[i][j])\n",
    "            submatrix.append(row)\n",
    "    return submatrix"
   ]
  },
  {
   "cell_type": "code",
   "execution_count": 9,
   "metadata": {},
   "outputs": [],
   "source": [
    "def determinantRecursively(matrix):\n",
    "    \"\"\"\n",
    "    Calculates the determinant of a matrix recursively.\n",
    "\n",
    "    Parameters\n",
    "    ----------\n",
    "    matrix : list of lists\n",
    "        The matrix.\n",
    "    \"\"\"\n",
    "\n",
    "    if len(matrix) != len(matrix[0]):\n",
    "        raise Exception(\"The matrix is not square!\")\n",
    "\n",
    "    if len(matrix) == 1:\n",
    "        return matrix[0][0]\n",
    "    elif len(matrix) == 2:\n",
    "        return matrix[0][0] * matrix[1][1] - matrix[0][1] * matrix[1][0]\n",
    "    else:\n",
    "        determinant = 0\n",
    "        for i in range(len(matrix)):\n",
    "            submatrix = subMatrixCalculator(matrix, (0, i)) # submatrix of matrix excluding the 0th row and ith column\n",
    "            determinant += ((-1)**i) * matrix[0][i] * determinantRecursively(submatrix)\n",
    "        return determinant"
   ]
  },
  {
   "cell_type": "code",
   "execution_count": 10,
   "metadata": {},
   "outputs": [
    {
     "name": "stdout",
     "output_type": "stream",
     "text": [
      "[0, -1, 3, 5, 0]\n",
      "[-3, 2, 1, -3, 5]\n",
      "[1, -3, 1, 5, 5]\n",
      "[3, -3, -1, 2, 5]\n",
      "[-3, 0, -4, 2, -3]\n",
      "Determinant using Gaussian elimination:  -396.0000000000005\n",
      "Determinant of matrix A using recursive method: -396\n"
     ]
    }
   ],
   "source": [
    "A = generateRandomMatrix((5, 5), 0.9)\n",
    "printMatrix(A)\n",
    "print(\"Determinant using Gaussian elimination: \", determinantGaussianElimination(A))\n",
    "print(\"Determinant of matrix A using recursive method:\", determinantRecursively(A))"
   ]
  },
  {
   "cell_type": "code",
   "execution_count": 11,
   "metadata": {},
   "outputs": [
    {
     "name": "stdout",
     "output_type": "stream",
     "text": [
      "[-2, 1, 1, 1, 2, 1, -3, 0, 5, 2]\n",
      "[0, 0, 1, -1, -4, -1, 2, 4, 0, 0]\n",
      "[-1, 1, -3, 2, -1, -4, 5, -2, -4, -5]\n",
      "[0, 2, 0, 3, -1, 1, 2, 3, 5, -1]\n",
      "[-2, 4, 2, -5, -4, -4, -2, 4, 0, 0]\n",
      "[1, 0, 2, 1, 4, -2, -4, -1, -5, 2]\n",
      "[-3, -3, 0, -1, 2, -2, -3, -5, 1, -4]\n",
      "[-5, 5, 5, 5, 4, -3, -3, -1, 3, -2]\n",
      "[1, 2, 4, 0, 0, -1, 3, -4, 1, 0]\n",
      "[0, 0, 0, 0, 3, 0, 0, 5, -5, -3]\n",
      "Time taken by Gaussian elimination:  0.00015401840209960938\n",
      "Determinant using Gaussian elimination:  18202244.0\n",
      "--------------------------------------------------\n",
      "Time taken by recursive method:  6.761446952819824\n",
      "Determinant of matrix A using recursive method: 18202244\n"
     ]
    }
   ],
   "source": [
    "# Comparing the time taken by both the methods\n",
    "A = generateRandomMatrix((10, 10), 0.9)\n",
    "printMatrix(A)\n",
    "\n",
    "start = time.time()\n",
    "determinantGaussianElimination(A)\n",
    "end = time.time()\n",
    "print(\"Time taken by Gaussian elimination: \", end - start)\n",
    "print(\"Determinant using Gaussian elimination: \", determinantGaussianElimination(A))\n",
    "\n",
    "print(\"-\"*50)\n",
    "\n",
    "start = time.time()\n",
    "determinantRecursively(A)\n",
    "end = time.time()\n",
    "print(\"Time taken by recursive method: \", end - start)\n",
    "print(\"Determinant of matrix A using recursive method:\", determinantRecursively(A))"
   ]
  }
 ],
 "metadata": {
  "kernelspec": {
   "display_name": "pytorch_env",
   "language": "python",
   "name": "python3"
  },
  "language_info": {
   "codemirror_mode": {
    "name": "ipython",
    "version": 3
   },
   "file_extension": ".py",
   "mimetype": "text/x-python",
   "name": "python",
   "nbconvert_exporter": "python",
   "pygments_lexer": "ipython3",
   "version": "3.9.13"
  },
  "orig_nbformat": 4
 },
 "nbformat": 4,
 "nbformat_minor": 2
}
