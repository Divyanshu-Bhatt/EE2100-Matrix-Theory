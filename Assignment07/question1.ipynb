{
 "cells": [
  {
   "cell_type": "code",
   "execution_count": 1,
   "metadata": {},
   "outputs": [],
   "source": [
    "import math\n",
    "import random"
   ]
  },
  {
   "cell_type": "markdown",
   "metadata": {},
   "source": [
    "### Helper Functions "
   ]
  },
  {
   "cell_type": "code",
   "execution_count": 2,
   "metadata": {},
   "outputs": [],
   "source": [
    "def scalarVectorProduct(scalar, vector):\n",
    "    \"\"\"\n",
    "    This function multiplies a scalar with a vector.\n",
    "\n",
    "    Parameters\n",
    "    ----------\n",
    "    scalar : float\n",
    "        Scalar.\n",
    "    vector : list\n",
    "        List of numbers.\n",
    "    \"\"\"\n",
    "\n",
    "    output = []\n",
    "    for i in range(len(vector)):\n",
    "        output.append(scalar * vector[i])\n",
    "\n",
    "    return output"
   ]
  },
  {
   "cell_type": "code",
   "execution_count": 3,
   "metadata": {},
   "outputs": [],
   "source": [
    "def addTwoVectors(vector1, vector2):\n",
    "    \"\"\"\n",
    "    This function adds two vectors.\n",
    "\n",
    "    Parameters\n",
    "    ----------\n",
    "    vector1 : list\n",
    "        List of numbers.\n",
    "    vector2 : list\n",
    "        List of numbers.\n",
    "    \"\"\"\n",
    "\n",
    "    output = []\n",
    "    for i in range(len(vector1)):\n",
    "        output.append(vector1[i] + vector2[i])\n",
    "\n",
    "    return output"
   ]
  },
  {
   "cell_type": "code",
   "execution_count": 4,
   "metadata": {},
   "outputs": [],
   "source": [
    "def generateRandomMatrix(size, density, elements_range=(-5, 5)):\n",
    "    \"\"\"\n",
    "    Generates a random matrix given the density of sparseness.\n",
    "    \n",
    "    Parameters\n",
    "    ----------\n",
    "    size : tuple \n",
    "        The size of the matrix.\n",
    "    elements_range : tuple\n",
    "        The range of the elements in the matrix.\n",
    "    density : float\n",
    "        The density of sparseness of the matrix.\n",
    "        \n",
    "    Returns\n",
    "    -------\n",
    "    matrix : list of lists\n",
    "        The random sparse matrix.\n",
    "    \"\"\"\n",
    "    matrix = []\n",
    "    for i in range(size[0]):\n",
    "        row = []\n",
    "        for j in range(size[1]):\n",
    "            # random.random() generates a number between 0 and 1 uniformly\n",
    "            # if random.random() < density, then the element is non-zero otherwise it is zero\n",
    "            if random.random() < density: \n",
    "                row.append(random.randint(elements_range[0], elements_range[1]))\n",
    "            else:\n",
    "                row.append(0)\n",
    "        matrix.append(row)\n",
    "    return matrix"
   ]
  },
  {
   "cell_type": "code",
   "execution_count": 5,
   "metadata": {},
   "outputs": [],
   "source": [
    "def initialiseIdentity(size):\n",
    "    \"\"\"\n",
    "    This function creates an identity matrix.\n",
    "\n",
    "    Parameters\n",
    "    ----------\n",
    "    size : int\n",
    "        Size of the identity matrix.\n",
    "    \"\"\"\n",
    "\n",
    "    output = [[0 for i in range(size)] for j in range(size)]\n",
    "    for i in range(size):\n",
    "        output[i][i] = 1\n",
    "\n",
    "    return output"
   ]
  },
  {
   "cell_type": "code",
   "execution_count": 6,
   "metadata": {},
   "outputs": [],
   "source": [
    "def printSolution(A, L, U):\n",
    "    \"\"\"\n",
    "    This function prints a matrix.\n",
    "\n",
    "    Parameters\n",
    "    ----------\n",
    "    A : list of lists\n",
    "        Matrix \n",
    "    L : list of lists\n",
    "        Lower triangular matrix.\n",
    "    U : list of lists\n",
    "        Upper triangular matrix.\n",
    "    \"\"\"\n",
    "    print(\"A:\")\n",
    "    for i in range(len(A)):\n",
    "        print(A[i])\n",
    "\n",
    "    if L != None:\n",
    "        print(\"-\"*30)\n",
    "        print(\"L:\")\n",
    "        for i in range(len(L)):\n",
    "            print(L[i])\n",
    "        print(\"-\"*30)\n",
    "        print(\"U:\")\n",
    "        for i in range(len(U)):\n",
    "            print(U[i])\n",
    "    else:\n",
    "        print(\"LU decomposition does not exist.\")"
   ]
  },
  {
   "cell_type": "markdown",
   "metadata": {},
   "source": [
    "### Main Code"
   ]
  },
  {
   "cell_type": "code",
   "execution_count": 7,
   "metadata": {},
   "outputs": [],
   "source": [
    "def luDecomposition(matrix):\n",
    "    \"\"\"\n",
    "    This function performs LU decomposition on a matrix.\n",
    "\n",
    "    Parameters\n",
    "    ----------\n",
    "    matrix : list\n",
    "        List of lists of numbers (square matrix)\n",
    "    \"\"\"\n",
    "\n",
    "    n = len(matrix)\n",
    "\n",
    "    # Initialising L, P and U\n",
    "    L_inv = initialiseIdentity(n)  # Initialising L to Identity matrix\n",
    "\n",
    "    U = matrix.copy() # Initialising U to be the input matrix\n",
    "\n",
    "    # Performing LU decomposition\n",
    "    for k in range(n):\n",
    "        swap_flag = 0 # Checking if we need to swap rows\n",
    "        if U[k][k] == 0:\n",
    "            for i in range(k + 1, n):\n",
    "                if U[i][k] != 0:\n",
    "                    swap_flag = 1\n",
    "                    break\n",
    "            if swap_flag == 1: # If we need to swap rows\n",
    "                print(\"LU decomposition failed. Need to define permutation matrix P.\")\n",
    "                return None, None\n",
    "        else:\n",
    "            # Calculating L and U\n",
    "            for i in range(k + 1, n):                \n",
    "                factor = U[i][k]/U[k][k]\n",
    "                U[i] = addTwoVectors(U[i], scalarVectorProduct(-factor, U[k]))             # R_i = R_i - factor*R_(row_num)\n",
    "                L_inv[i] = addTwoVectors(L_inv[i], scalarVectorProduct(-factor, L_inv[k])) # Performing same operations on L_inv\n",
    "    \n",
    "    print(\"LU decomposition successful.\")\n",
    "    \n",
    "    # Finding inverse of L_inv matrix\n",
    "    # The diagonal elements of L_inv are 1 and all the upper triangular matrix elements are 0\n",
    "    # We only need to perform operations on the lower triangular matrix elements\n",
    "    \n",
    "    L = initialiseIdentity(n) # Initialising L to Identity matrix\n",
    "    for k in range(n):\n",
    "        for i in range(k + 1, n):\n",
    "            factor = L_inv[i][k]/L_inv[k][k]                               # No need to perform operations on L_inv matrix\n",
    "            L[i] = addTwoVectors(L[i], scalarVectorProduct(-factor, L[k])) # L_i = L_i - factor*L_(row_num)\n",
    "    \n",
    "    return L, U"
   ]
  },
  {
   "cell_type": "code",
   "execution_count": 8,
   "metadata": {},
   "outputs": [
    {
     "name": "stdout",
     "output_type": "stream",
     "text": [
      "LU decomposition successful.\n",
      "A:\n",
      "[1, 2, 2, 1]\n",
      "[2, 1, 1, 2]\n",
      "[2, 1, 2, 1]\n",
      "[1, 2, 1, 2]\n",
      "------------------------------\n",
      "L:\n",
      "[1, 0, 0, 0]\n",
      "[2.0, 1.0, 0.0, 0.0]\n",
      "[2.0, 1.0, 1.0, 0.0]\n",
      "[1.0, 0.0, -1.0, 1.0]\n",
      "------------------------------\n",
      "U:\n",
      "[1, 2, 2, 1]\n",
      "[0.0, -3.0, -3.0, 0.0]\n",
      "[0.0, 0.0, 1.0, -1.0]\n",
      "[0.0, 0.0, 0.0, 0.0]\n"
     ]
    }
   ],
   "source": [
    "# Testing the function\n",
    "A =  [[1,2,2,1],[2,1,1,2],[2,1,2,1],[1,2,1,2]]\n",
    "L, U = luDecomposition(A)\n",
    "printSolution(A, L, U)"
   ]
  },
  {
   "cell_type": "code",
   "execution_count": 9,
   "metadata": {},
   "outputs": [
    {
     "name": "stdout",
     "output_type": "stream",
     "text": [
      "LU decomposition successful.\n",
      "A:\n",
      "[0, -5, 2, -2, 0]\n",
      "[0, 0, 0, 0, 0]\n",
      "[0, 0, 0, 0, 0]\n",
      "[0, 0, 0, 0, 0]\n",
      "[0, 0, 0, 0, 0]\n",
      "------------------------------\n",
      "L:\n",
      "[1, 0, 0, 0, 0]\n",
      "[0.0, 1.0, 0.0, 0.0, 0.0]\n",
      "[0.0, 0.0, 1.0, 0.0, 0.0]\n",
      "[0.0, 0.0, 0.0, 1.0, 0.0]\n",
      "[0.0, 0.0, 0.0, 0.0, 1.0]\n",
      "------------------------------\n",
      "U:\n",
      "[0, -5, 2, -2, 0]\n",
      "[0, 0, 0, 0, 0]\n",
      "[0, 0, 0, 0, 0]\n",
      "[0, 0, 0, 0, 0]\n",
      "[0, 0, 0, 0, 0]\n"
     ]
    }
   ],
   "source": [
    "# Random matrix\n",
    "A = generateRandomMatrix((5, 5), 0.1)\n",
    "L, U = luDecomposition(A)\n",
    "printSolution(A, L, U)"
   ]
  },
  {
   "cell_type": "code",
   "execution_count": 10,
   "metadata": {},
   "outputs": [
    {
     "name": "stdout",
     "output_type": "stream",
     "text": [
      "LU decomposition failed. Need to define permutation matrix P.\n",
      "A:\n",
      "[0, 0, -4, 0, 3]\n",
      "[2, -3, -2, 0, 1]\n",
      "[-3, 0, 2, 4, 5]\n",
      "[-2, -4, 2, 4, 1]\n",
      "[-4, -3, -3, 4, 4]\n",
      "LU decomposition does not exist.\n"
     ]
    }
   ],
   "source": [
    "# Random matrix\n",
    "A = generateRandomMatrix((5, 5), 0.9)\n",
    "L, U = luDecomposition(A)\n",
    "printSolution(A, L, U)"
   ]
  }
 ],
 "metadata": {
  "kernelspec": {
   "display_name": "pytorch_env",
   "language": "python",
   "name": "python3"
  },
  "language_info": {
   "codemirror_mode": {
    "name": "ipython",
    "version": 3
   },
   "file_extension": ".py",
   "mimetype": "text/x-python",
   "name": "python",
   "nbconvert_exporter": "python",
   "pygments_lexer": "ipython3",
   "version": "3.9.13"
  },
  "orig_nbformat": 4
 },
 "nbformat": 4,
 "nbformat_minor": 2
}
