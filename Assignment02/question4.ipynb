{
 "cells": [
  {
   "cell_type": "code",
   "execution_count": 1,
   "metadata": {},
   "outputs": [],
   "source": [
    "import cmath # For complex numbers"
   ]
  },
  {
   "cell_type": "markdown",
   "metadata": {},
   "source": [
    "### DFT Implementation\n",
    "Discrete Fourier Transform (DFT) of a signal is defined as:\n",
    "\n",
    "$$X[k] = \\sum_{n=0}^{N-1} x[n] \\exp\\left(-{j2\\pi kn\\over N}\\right)$$\n",
    "\n",
    "where $x$ is the input signal, $X$ is the DFT of the signal, and $N$ is the length of the signal.\n",
    "\n",
    "Similarly, the Inverse Discrete Fourier Transform (IDFT) of a signal is defined as:\n",
    "\n",
    "$$x[n] = {1\\over N} \\sum_{k=0}^{N-1} X[k] \\exp\\left({j2\\pi kn\\over N}\\right)$$\n",
    "\n",
    "where $x$ is the input signal, $X$ is the DFT of the signal, and $N$ is the length of the signal. This is implemented in the function ```DFT()``` and ```IDFT()``` below."
   ]
  },
  {
   "cell_type": "markdown",
   "metadata": {},
   "source": [
    "Although there exist multiple notions of DFT, the above definition is widely practiced. The other definitions of DFT differ in scaling factor. \n",
    "Some other notions of DFT are \n",
    "\n",
    "1.\n",
    "$$X[k] = {1\\over \\sqrt{N}} \\sum_{n=0}^{N-1} x[n] \\exp\\left(-{j2\\pi kn\\over N}\\right) \\tag{DFT}$$ \n",
    "\n",
    "$$x[n] = {1\\over \\sqrt{N}} \\sum_{k=0}^{N-1} X[k] \\exp\\left({j2\\pi kn\\over N}\\right) \\tag{IDFT}$$\n",
    "\n",
    "\n",
    "2.\n",
    "$$X[k] = {1\\over N}\\sum_{n=0}^{N-1} x[n] \\exp\\left(-{j2\\pi kn\\over N}\\right) \\tag{DFT}$$\n",
    "\n",
    "$$x[n] =  \\sum_{k=0}^{N-1} X[k] \\exp\\left({j2\\pi kn\\over N}\\right) \\tag{IDFT}$$"
   ]
  },
  {
   "cell_type": "code",
   "execution_count": 2,
   "metadata": {},
   "outputs": [],
   "source": [
    "def DFT(x, N):\n",
    "    \"\"\"\n",
    "    Parameters\n",
    "    ----------\n",
    "    x : input signal in time domain\n",
    "        The signal that needs to be transformed\n",
    "    N : length of the DFT (N-point DFT)\n",
    "\n",
    "    Returns\n",
    "    -------\n",
    "    X : N-point DFT of the input signal\n",
    "\n",
    "    Description\n",
    "    -----------\n",
    "    Computes the N-point DFT of the input signal using for loop\n",
    "    if N > length of the input sequence, pad the input sequence with zeros to get N-point signal \n",
    "    if N < length of the input sequence, truncate the input sequence to obtain the N-point signal\n",
    "    \"\"\"\n",
    "\n",
    "    if N > len(x):\n",
    "        x.extend([0]*(N-len(x))) # pad with zeros\n",
    "    else:\n",
    "      x = x[:N] # truncate the input sequence\n",
    "\n",
    "    X = []\n",
    "    for k in range(0, N):\n",
    "        X.append(0 + 0j)\n",
    "        for n in range(0, N):\n",
    "            X[k] += x[n]*cmath.exp(-(1j*2*cmath.pi*k*n)/N)\n",
    "            \n",
    "    return X"
   ]
  },
  {
   "cell_type": "code",
   "execution_count": 3,
   "metadata": {},
   "outputs": [],
   "source": [
    "def IDFT(X, N):\n",
    "    \"\"\"\n",
    "    Parameters\n",
    "    ----------\n",
    "    signal : input signal in frequency domain\n",
    "        The signal that needs to be transformed\n",
    "    N : length of the IDFT (N-point IDFT)\n",
    "\n",
    "    Returns\n",
    "    -------\n",
    "    x : N-point IDFT of the input signal\n",
    "\n",
    "    Description\n",
    "    -----------\n",
    "    Computes the N-point IDFT of the input signal using for loop\n",
    "    if N > length of the input sequence, pad the input sequence with zeros to get N-point signal \n",
    "    if N < length of the input sequence, truncate the input sequence to obtain the N-point signal\n",
    "    \"\"\"\n",
    "\n",
    "    if N > len(X):\n",
    "        X.extend([0]*(N-len(X))) # pad with zeros\n",
    "    else:\n",
    "      X = X[:N] # truncate the input sequence\n",
    "\n",
    "    x = []\n",
    "    for n in range(0, N):\n",
    "        x.append(0 + 0j)\n",
    "        for k in range(0, N):\n",
    "            x[n] += X[k]*cmath.exp((1j*2*cmath.pi*k*n)/N)\n",
    "        x[n] /= N\n",
    "            \n",
    "    return x"
   ]
  },
  {
   "cell_type": "code",
   "execution_count": 4,
   "metadata": {},
   "outputs": [
    {
     "name": "stdout",
     "output_type": "stream",
     "text": [
      "X[0] =  (5+0j)\n",
      "X[1] =  (3+2j)\n",
      "X[2] =  (-7+0j)\n",
      "X[3] =  (3-2j)\n"
     ]
    }
   ],
   "source": [
    "x = [1, 2, -2, 4]\n",
    "N = 4\n",
    "X = DFT(x, N)\n",
    "for i in range(N):\n",
    "    print(f\"X[{i}] = \", round(X[i].real, 2) + round(X[i].imag, 2)*1j)"
   ]
  },
  {
   "cell_type": "code",
   "execution_count": 5,
   "metadata": {},
   "outputs": [
    {
     "name": "stdout",
     "output_type": "stream",
     "text": [
      "x[0] =  (1+0j)\n",
      "x[1] =  (2+0j)\n",
      "x[2] =  (-2+0j)\n",
      "x[3] =  (4+0j)\n"
     ]
    }
   ],
   "source": [
    "x_reconstructed = IDFT(X, N)\n",
    "for i in range(N):\n",
    "    print(f\"x[{i}] = \", round(x_reconstructed[i].real, 2) + round(x_reconstructed[i].imag, 2)*1j)"
   ]
  },
  {
   "cell_type": "markdown",
   "metadata": {},
   "source": [
    "We can see from the above example that DFT and IDFT are inverses of each other. That is, if we apply DFT to a signal and then apply IDFT to the result, we should get the original signal back."
   ]
  },
  {
   "cell_type": "markdown",
   "metadata": {},
   "source": [
    "### DFT Implementation using Matrix Multiplication (for reference only)"
   ]
  },
  {
   "cell_type": "markdown",
   "metadata": {},
   "source": [
    "DFT can be computed using matrix multiplication as follows:\n",
    "\n",
    "$$X = \\mathbf{F}x$$\n",
    "\n",
    "where $X$ is the DFT of the signal $x$, and $\\mathbf{F}$ is the DFT matrix defined as:\n",
    "\n",
    "$$\\mathbf{F} = \\begin{bmatrix}\n",
    "1 & 1 & 1 & \\cdots & 1 \\\\\n",
    "1 & \\omega & \\omega^2 & \\cdots & \\omega^{N-1} \\\\\n",
    "1 & \\omega^2 & \\omega^4 & \\cdots & \\omega^{2(N-1)} \\\\\n",
    "\\vdots & \\vdots & \\vdots & \\ddots & \\vdots \\\\\n",
    "1 & \\omega^{N-1} & \\omega^{2(N-1)} & \\cdots & \\omega^{(N-1)(N-1)} \\\\\n",
    "\\end{bmatrix}$$\n",
    "\n",
    "where $\\omega = \\displaystyle\\exp\\left(-{j2\\pi\\over N}\\right)$.\n",
    "\n",
    "Similarly, IDFT can be computed using matrix multiplication as follows:\n",
    "\n",
    "$$x = \\mathbf{F}^{-1}X$$\n",
    "\n",
    "where $x$ is the IDFT of the signal $X$, and $\\mathbf{F}^{-1}$ is the inverse DFT matrix defined as:\n",
    "\n",
    "$$\n",
    "\\mathbf{F}^{-1} = {1\\over N}\\begin{bmatrix}\n",
    "1 & 1  & \\cdots & 1 \\\\\n",
    "1 & \\omega^{-1} & \\cdots & \\omega^{-(N-1)} \\\\\n",
    "1 & \\omega^{-2}  & \\cdots & \\omega^{-2(N-1)} \\\\\n",
    "\\vdots & \\vdots  & \\ddots & \\vdots \\\\\n",
    "1 & \\omega^{-(N-1)} & \\cdots & \\omega^{-(N-1)(N-1)} \\\\\n",
    "\\end{bmatrix} \n",
    "= {1\\over N}\\begin{bmatrix} 1 & 1 & \\cdots & 1 \\\\\n",
    "1 & \\omega_*^{1} & \\cdots & \\omega_*^{(N-1)} \\\\\n",
    "1 & \\omega_*^{2} & \\cdots & \\omega_*^{2(N-1)} \\\\\n",
    "\\vdots & \\vdots & \\ddots & \\vdots \\\\\n",
    "1 & \\omega_*^{(N-1)} & \\cdots & \\omega_*^{(N-1)(N-1)} \\\\\n",
    "\\end{bmatrix}\n",
    "$$\n",
    "\n",
    "where $\\omega_* = \\displaystyle\\exp\\left({j2\\pi\\over N}\\right)$."
   ]
  },
  {
   "cell_type": "code",
   "execution_count": 6,
   "metadata": {},
   "outputs": [],
   "source": [
    "# using numpy for matrix multiplication\n",
    "import numpy as np "
   ]
  },
  {
   "cell_type": "code",
   "execution_count": 7,
   "metadata": {},
   "outputs": [],
   "source": [
    "def DFT_Matrix(x, N):\n",
    "    \"\"\"\n",
    "    Parameters\n",
    "    ----------\n",
    "    x : input signal in time domain\n",
    "        The signal that needs to be transformed\n",
    "    N : length of the DFT (N-point DFT)\n",
    "\n",
    "    Returns\n",
    "    -------\n",
    "    X : N-point DFT of the input signal\n",
    "\n",
    "    Description\n",
    "    -----------\n",
    "    Computes the N-point DFT of the input signal using matrix multiplication\n",
    "    if N > length of the input sequence, pad the input sequence with zeros to get N-point signal\n",
    "    if N < length of the input sequence, truncate the input sequence to obtain the N-point signal\n",
    "    \"\"\"\n",
    "    if N > len(x):\n",
    "      x = np.hstack([x, np.zeros(N - len(x))]) # concatenate X with zeros vector of length N - len(X)\n",
    "    else:\n",
    "      x = x[:N] # truncate the input sequence\n",
    "    \n",
    "    F = np.arange(N).reshape(-1, 1) # create a column vector i.e. [0, 1, 2, ..., N-1]^T\n",
    "    # Multiplying the column vector with its transpose and dividing by N \n",
    "    F = F*F.T/N # The result is a matrix of size N x N with elements F[i, j] = i*j/N\n",
    "    F = np.exp(-2j*np.pi*F) # Created the DFT matrix\n",
    "\n",
    "    return np.dot(F, x)"
   ]
  },
  {
   "cell_type": "code",
   "execution_count": 8,
   "metadata": {},
   "outputs": [
    {
     "name": "stdout",
     "output_type": "stream",
     "text": [
      "X[0] =  (5+0j)\n",
      "X[1] =  (3+2j)\n",
      "X[2] =  (-7+0j)\n",
      "X[3] =  (3-2j)\n"
     ]
    }
   ],
   "source": [
    "x = [1, 2, -2, 4]\n",
    "N = 4\n",
    "X = DFT_Matrix(x, N)\n",
    "for i in range(N):\n",
    "    print(f\"X[{i}] = \", round(X[i].real, 2) + round(X[i].imag, 2)*1j)"
   ]
  },
  {
   "cell_type": "code",
   "execution_count": 9,
   "metadata": {},
   "outputs": [],
   "source": [
    "def IDFT_Matrix(X, N):\n",
    "    \"\"\"\n",
    "    Parameters\n",
    "    ----------\n",
    "    signal : input signal in frequency domain\n",
    "        The signal that needs to be transformed\n",
    "    N : length of the IDFT (N-point IDFT)\n",
    "\n",
    "    Returns\n",
    "    -------\n",
    "    x : N-point IDFT of the input signal\n",
    "\n",
    "    Description\n",
    "    -----------\n",
    "    Computes the N-point IDFT of the input signal using matrix multiplication\n",
    "    if N > length of the input sequence, pad the input sequence with zeros to get N-point signal \n",
    "    if N < length of the input sequence, truncate the input sequence to obtain the N-point signal\n",
    "    \"\"\"\n",
    "    \n",
    "    if N > len(X):\n",
    "      X = np.hstack([X, np.zeros(N - len(X))]) # concatenate X with zeros vector of length N - len(X)\n",
    "    else:\n",
    "        X = X[:N] # truncate the input sequence\n",
    "    \n",
    "    F = np.arange(N).reshape(-1, 1) # create a column vector i.e. [0, 1, 2, ..., N-1]^T\n",
    "    # Multiplying the column vector with its transpose and dividing by N \n",
    "    F = F*F.T/N # The result is a matrix of size N x N with elements F[i, j] = i*j/N\n",
    "    F = np.exp(2j*np.pi*F) # Created the IDFT matrix\n",
    "\n",
    "    return np.dot(F, X)/N"
   ]
  },
  {
   "cell_type": "code",
   "execution_count": 10,
   "metadata": {},
   "outputs": [
    {
     "name": "stdout",
     "output_type": "stream",
     "text": [
      "x[0] =  (1+0j)\n",
      "x[1] =  (2+0j)\n",
      "x[2] =  (-2+0j)\n",
      "x[3] =  (4+0j)\n"
     ]
    }
   ],
   "source": [
    "x_reconstructed = IDFT_Matrix(X, N)\n",
    "for i in range(N):\n",
    "    print(f\"x[{i}] = \", round(x_reconstructed[i].real, 2) + round(x_reconstructed[i].imag, 2)*1j)"
   ]
  },
  {
   "cell_type": "markdown",
   "metadata": {},
   "source": [
    "The matrix multiplication method is faster than the direct method for computing DFT and IDFT because the ```numpy``` library uses highly optimized matrix multiplication routines."
   ]
  }
 ],
 "metadata": {
  "kernelspec": {
   "display_name": "pytorch_env",
   "language": "python",
   "name": "python3"
  },
  "language_info": {
   "codemirror_mode": {
    "name": "ipython",
    "version": 3
   },
   "file_extension": ".py",
   "mimetype": "text/x-python",
   "name": "python",
   "nbconvert_exporter": "python",
   "pygments_lexer": "ipython3",
   "version": "3.9.13"
  },
  "orig_nbformat": 4
 },
 "nbformat": 4,
 "nbformat_minor": 2
}
