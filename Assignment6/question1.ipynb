{
 "cells": [
  {
   "cell_type": "code",
   "execution_count": 1,
   "metadata": {},
   "outputs": [],
   "source": [
    "import math\n",
    "import random"
   ]
  },
  {
   "cell_type": "markdown",
   "metadata": {},
   "source": [
    "### Helper Functions "
   ]
  },
  {
   "cell_type": "code",
   "execution_count": 2,
   "metadata": {},
   "outputs": [],
   "source": [
    "def scalarVectorProduct(scalar, vector):\n",
    "    \"\"\"\n",
    "    This function multiplies a scalar with a vector.\n",
    "\n",
    "    Parameters\n",
    "    ----------\n",
    "    scalar : float\n",
    "        Scalar.\n",
    "    vector : list\n",
    "        List of numbers.\n",
    "    \"\"\"\n",
    "\n",
    "    output = []\n",
    "    for i in range(len(vector)):\n",
    "        output.append(scalar * vector[i])\n",
    "\n",
    "    return output"
   ]
  },
  {
   "cell_type": "code",
   "execution_count": 3,
   "metadata": {},
   "outputs": [],
   "source": [
    "def addTwoVectors(vector1, vector2):\n",
    "    \"\"\"\n",
    "    This function adds two vectors.\n",
    "\n",
    "    Parameters\n",
    "    ----------\n",
    "    vector1 : list\n",
    "        List of numbers.\n",
    "    vector2 : list\n",
    "        List of numbers.\n",
    "    \"\"\"\n",
    "\n",
    "    output = []\n",
    "    for i in range(len(vector1)):\n",
    "        output.append(vector1[i] + vector2[i])\n",
    "\n",
    "    return output"
   ]
  },
  {
   "cell_type": "code",
   "execution_count": 4,
   "metadata": {},
   "outputs": [],
   "source": [
    "def generateRandomMatrix(size, density, elements_range=(-5, 5)):\n",
    "    \"\"\"\n",
    "    Generates a random matrix given the density of sparseness.\n",
    "    \n",
    "    Parameters\n",
    "    ----------\n",
    "    size : tuple \n",
    "        The size of the matrix.\n",
    "    elements_range : tuple\n",
    "        The range of the elements in the matrix.\n",
    "    density : float\n",
    "        The density of sparseness of the matrix.\n",
    "        \n",
    "    Returns\n",
    "    -------\n",
    "    matrix : list of lists\n",
    "        The random sparse matrix.\n",
    "    \"\"\"\n",
    "    matrix = []\n",
    "    for i in range(size[0]):\n",
    "        row = []\n",
    "        for j in range(size[1]):\n",
    "            # random.random() generates a number between 0 and 1 uniformly\n",
    "            # if random.random() < density, then the element is non-zero otherwise it is zero\n",
    "            if random.random() < density: \n",
    "                row.append(random.randint(elements_range[0], elements_range[1]))\n",
    "            else:\n",
    "                row.append(0)\n",
    "        matrix.append(row)\n",
    "    return matrix"
   ]
  },
  {
   "cell_type": "markdown",
   "metadata": {},
   "source": [
    "### Main Code"
   ]
  },
  {
   "cell_type": "code",
   "execution_count": 5,
   "metadata": {},
   "outputs": [],
   "source": [
    "class GaussianElimination(object):\n",
    "    \"\"\"\n",
    "    A class to solve a system of linear equations using Gaussian Elimination\n",
    "    \"\"\"\n",
    "    def __init__(self):\n",
    "        \"\"\"\n",
    "        Constructor\n",
    "\n",
    "        Initializes/Parameters\n",
    "        ----------------------\n",
    "        A : list of lists\n",
    "            A matrix of size m x n\n",
    "        b : list\n",
    "            b vector of size m\n",
    "        x : list\n",
    "            x vector of size n\n",
    "        m : int\n",
    "            number of rows in A\n",
    "        n : int\n",
    "            number of columns in A\n",
    "        \"\"\"\n",
    "\n",
    "        self.A = []\n",
    "        self.b = []\n",
    "        self.x = []\n",
    "        self.m = 0\n",
    "        self.n = 0\n",
    "\n",
    "    def fit(self, A, b):\n",
    "        \"\"\"\n",
    "        Solves the system of linear equations\n",
    "\n",
    "        Parameters\n",
    "        ----------\n",
    "        A : list of lists\n",
    "            A matrix of size m x n\n",
    "        b : list\n",
    "            b vector of size m\n",
    "        \"\"\"\n",
    "\n",
    "        # Initializing the parameters\n",
    "        self.A = A.copy()\n",
    "        self.b = b.copy()\n",
    "        self.m = len(self.A)\n",
    "        self.n = len(self.A[0])\n",
    "\n",
    "        self.printQuestion()\n",
    "\n",
    "        # Performing forward elimination\n",
    "        self.forwardElimination()\n",
    "        solution_type = self.checkSolutionType()\n",
    "        print(\"The system of linear equations have \", solution_type)\n",
    "\n",
    "        if solution_type == \"Unique solution\":\n",
    "            self.x = [0]*self.n\n",
    "            self.backSubstitution()\n",
    "            \n",
    "            print(\"x = \", self.x)\n",
    "        \n",
    "        \n",
    "    def forwardElimination(self):\n",
    "        \"\"\"\n",
    "        Performs forward elimination on the matrix A\n",
    "        \"\"\"\n",
    "        \n",
    "        pivot = 0    # column location for the pivot \n",
    "        row_num = 0 \n",
    "        while pivot < self.n and row_num < self.m:\n",
    "            # flag to check if we could find a non-zero element in the column below kth row (including kth row)\n",
    "            flag = self.swapRows(pivot, row_num)\n",
    "\n",
    "            if flag == 0: # if flag = 0 means that the column is all zeros below kth row (no swapping)\n",
    "                pivot += 1 \n",
    "            else:\n",
    "                for i in range(row_num+1, self.m):                \n",
    "                    factor = self.A[i][pivot]/self.A[row_num][pivot]\n",
    "                    self.A[i] = addTwoVectors(self.A[i], scalarVectorProduct(-factor, self.A[row_num])) # R_i = R_i - factor*R_(row_num)\n",
    "                    self.b[i] = self.b[i] - factor*self.b[row_num]\n",
    "                \n",
    "                pivot += 1\n",
    "                row_num += 1\n",
    "    \n",
    "    def backSubstitution(self):\n",
    "        \"\"\"\n",
    "        Performs back substitution on the matrix A\n",
    "        \"\"\"\n",
    "\n",
    "        for i in range(self.m-1, -1, -1):\n",
    "            # Solving for x_i using already solved x_j's where j > i\n",
    "            summation = 0\n",
    "            for j in range(i+1, self.n): \n",
    "                summation += self.A[i][j]*self.x[j]\n",
    "            \n",
    "            self.x[i] = (self.b[i] - summation)/self.A[i][i]\n",
    "    \n",
    "    def checkSolutionType(self):\n",
    "        \"\"\"\n",
    "        Tells whether the solution is unique, infinite or no solution after forward elimination\n",
    "\n",
    "        Returns\n",
    "        -------\n",
    "        str\n",
    "            \"Unique solution\" if the solution is unique\n",
    "            \"Infinite solution\" if the solution is infinite\n",
    "            \"No solution\" if the solution is no solution\n",
    "        \"\"\"\n",
    "\n",
    "        # Unique Solution if the last row of A is not all zeros\n",
    "        if not self.checkAllZeroRow(self.m-1):\n",
    "            return \"Unique solution\"\n",
    "\n",
    "        # If there exists a row with all zeros and b[i] != 0 then No Solution otherwise Infinite Solution\n",
    "        # We start from the last row and check if it is all zeros and b[i] != 0. \n",
    "        # We check this until we find a row which is not all zeros or we reach the first row.\n",
    "\n",
    "        for i in range(self.m - 1, -1, -1):\n",
    "            if self.checkAllZeroRow(i):\n",
    "                if self.b[i] != 0: \n",
    "                    return \"No solution\" \n",
    "            else: \n",
    "                # found a row which is not all zeros\n",
    "                break\n",
    "        \n",
    "        # If all the rows with all zeros have b[i] = 0 then Infinite Solution\n",
    "        return \"Infinite solution\"\n",
    "    \n",
    "    def swapRows(self, pivot, k):\n",
    "        \"\"\"\n",
    "        Swaps rows if the kth element in the kth column is zero\n",
    "\n",
    "        Parameters\n",
    "        ----------\n",
    "        pivot : int\n",
    "            Column number\n",
    "        k : int\n",
    "            Row number\n",
    "        \n",
    "        Returns\n",
    "        -------\n",
    "        bool\n",
    "            True if A[k][k] != 0 otherwise False\n",
    "        \"\"\"\n",
    "\n",
    "        if self.A[k][pivot] != 0:\n",
    "            return True\n",
    "        else:\n",
    "            for j in range(k+1, self.m):\n",
    "                if self.A[j][pivot] != 0:\n",
    "                    self.A[k], self.A[j] = self.A[j], self.A[k]\n",
    "                    self.b[k], self.b[j] = self.b[j], self.b[k]\n",
    "                    return True\n",
    "            return False\n",
    "    \n",
    "    def checkAllZeroRow(self, k):\n",
    "        \"\"\"\n",
    "        Checks if a row is all zeros\n",
    "\n",
    "        Parameters\n",
    "        ----------\n",
    "        k : int\n",
    "            Row number\n",
    "        \n",
    "        Returns\n",
    "        -------\n",
    "        bool\n",
    "            True if row is all zeros otherwise False\n",
    "        \"\"\"\n",
    "\n",
    "        for j in range(self.n):\n",
    "            if self.A[k][j] != 0:\n",
    "                return False\n",
    "        return True\n",
    "\n",
    "    def printQuestion(self):\n",
    "        print(\"For A = \")\n",
    "        for i in range(self.m):\n",
    "            print(self.A[i])\n",
    "        print(\"and b = \", self.b)\n",
    "        print()"
   ]
  },
  {
   "cell_type": "code",
   "execution_count": 6,
   "metadata": {},
   "outputs": [],
   "source": [
    "solver = GaussianElimination()"
   ]
  },
  {
   "cell_type": "code",
   "execution_count": 7,
   "metadata": {},
   "outputs": [
    {
     "name": "stdout",
     "output_type": "stream",
     "text": [
      "For A = \n",
      "[1, 2, 3]\n",
      "[4, 5, 6]\n",
      "[7, 8, 9]\n",
      "and b =  [1, 2, 3]\n",
      "\n",
      "The system of linear equations have  Infinite solution\n"
     ]
    }
   ],
   "source": [
    "# Infinite solutions Example\n",
    "A = [[1, 2, 3], [4, 5, 6], [7, 8, 9]] # A matrix with linearly dependent columns\n",
    "b = [1, 2, 3] # b vector is in the column space of A\n",
    "\n",
    "solver.fit(A, b)"
   ]
  },
  {
   "cell_type": "code",
   "execution_count": 8,
   "metadata": {},
   "outputs": [
    {
     "name": "stdout",
     "output_type": "stream",
     "text": [
      "For A = \n",
      "[4, 1, 0, 0, -2]\n",
      "[0.0, 5.0, 0.0, 3.0, -2.0]\n",
      "[0.0, 0.0, 0.0, 0.0, -5.0]\n",
      "[0.0, 0.0, 0.0, -3.4, 6.6]\n",
      "[0.0, 0.0, 0.0, 0.0, 5.0]\n",
      "and b =  [-1, -6.0, 3.0, 7.8, 1.0]\n",
      "\n",
      "The system of linear equations have  No solution\n"
     ]
    }
   ],
   "source": [
    "# No solution Example\n",
    "A = [[4, 1, 0, 0, -2], [0.0, 5.0, 0.0, 3.0, -2.0], [0.0, 0.0, 0.0, 0.0, -5.0], [0.0, 0.0, 0.0, -3.4, 6.6], [0.0, 0.0, 0.0, 0.0, 5.0]]\n",
    "b = [-1, -6.0, 3.0, 7.8, 1.0]\n",
    "\n",
    "solver.fit(A, b)"
   ]
  },
  {
   "cell_type": "code",
   "execution_count": 9,
   "metadata": {},
   "outputs": [
    {
     "name": "stdout",
     "output_type": "stream",
     "text": [
      "For A = \n",
      "[1, 2, 3]\n",
      "[4, 5, 6]\n",
      "[3, 2, 7]\n",
      "and b =  [1, 2, 3]\n",
      "\n",
      "The system of linear equations have  Unique solution\n",
      "x =  [0.11111111111111116, -0.22222222222222218, 0.4444444444444444]\n"
     ]
    }
   ],
   "source": [
    "# Unique solution Example\n",
    "A = [[1, 2, 3], [4, 5, 6], [3, 2, 7]] # A matrix with linearly independent columns\n",
    "b = [1, 2, 3] # b vector is in the column space of A\n",
    "\n",
    "solver.fit(A, b)"
   ]
  },
  {
   "cell_type": "code",
   "execution_count": 10,
   "metadata": {},
   "outputs": [
    {
     "name": "stdout",
     "output_type": "stream",
     "text": [
      "x =  [ 0.11111111 -0.22222222  0.44444444]\n"
     ]
    }
   ],
   "source": [
    "# Checking the solution for the Unique solution Example (Using numpy to check)\n",
    "import numpy as np\n",
    "A = np.array(A)\n",
    "b = np.array(b)\n",
    "x = np.linalg.solve(A, b)\n",
    "print(\"x = \", x)"
   ]
  },
  {
   "cell_type": "code",
   "execution_count": 11,
   "metadata": {},
   "outputs": [
    {
     "name": "stdout",
     "output_type": "stream",
     "text": [
      "For A = \n",
      "[0, 0, 3, 0, -5]\n",
      "[0, 0, -5, 0, 0]\n",
      "[1, 0, -2, 2, 0]\n",
      "[5, -2, 2, 0, 0]\n",
      "[-3, 0, 0, 0, 4]\n",
      "and b =  [0, 2, 0, 2, -5]\n",
      "\n",
      "The system of linear equations have  Unique solution\n",
      "x =  [1.3466666666666667, 1.9666666666666663, -0.39999999999999997, -1.0733333333333333, -0.24]\n"
     ]
    }
   ],
   "source": [
    "# Random Matrix\n",
    "A = generateRandomMatrix((5, 5), 0.5, (-5, 5))\n",
    "b = [random.randint(-5, 5) for i in range(5)]\n",
    "solver.fit(A, b)"
   ]
  },
  {
   "cell_type": "code",
   "execution_count": 12,
   "metadata": {},
   "outputs": [
    {
     "name": "stdout",
     "output_type": "stream",
     "text": [
      "For A = \n",
      "[0, 0]\n",
      "[0, 0]\n",
      "and b =  [0, 0]\n",
      "\n",
      "The system of linear equations have  Infinite solution\n"
     ]
    }
   ],
   "source": [
    "# Zero Matrix Infinite Solution\n",
    "A = [[0,0],[0,0]]\n",
    "b = [0,0]\n",
    "\n",
    "solver.fit(A, b)"
   ]
  },
  {
   "cell_type": "code",
   "execution_count": 13,
   "metadata": {},
   "outputs": [
    {
     "name": "stdout",
     "output_type": "stream",
     "text": [
      "For A = \n",
      "[0, 0]\n",
      "[0, 0]\n",
      "and b =  [1, 0]\n",
      "\n",
      "The system of linear equations have  No solution\n"
     ]
    }
   ],
   "source": [
    "# Zero Matrix No Solution\n",
    "A = [[0,0],[0,0]]\n",
    "b = [1,0]\n",
    "\n",
    "solver.fit(A, b)"
   ]
  }
 ],
 "metadata": {
  "kernelspec": {
   "display_name": "pytorch_env",
   "language": "python",
   "name": "python3"
  },
  "language_info": {
   "codemirror_mode": {
    "name": "ipython",
    "version": 3
   },
   "file_extension": ".py",
   "mimetype": "text/x-python",
   "name": "python",
   "nbconvert_exporter": "python",
   "pygments_lexer": "ipython3",
   "version": "3.9.13"
  },
  "orig_nbformat": 4
 },
 "nbformat": 4,
 "nbformat_minor": 2
}
