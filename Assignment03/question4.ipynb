{
 "cells": [
  {
   "cell_type": "code",
   "execution_count": 1,
   "metadata": {},
   "outputs": [],
   "source": [
    "import math"
   ]
  },
  {
   "cell_type": "markdown",
   "metadata": {},
   "source": [
    "## Grahm Schimidt Orthogonalization"
   ]
  },
  {
   "cell_type": "code",
   "execution_count": 2,
   "metadata": {},
   "outputs": [],
   "source": [
    "def dotProduct(vector1, vector2):\n",
    "    \"\"\"\n",
    "    Description\n",
    "    -----------\n",
    "    This function takes two vectors and returns the dot product of the two vectors.\n",
    "\n",
    "    Parameters\n",
    "    ----------\n",
    "    vector1 : list\n",
    "    vector2 : list\n",
    "    \"\"\"\n",
    "    output = 0\n",
    "    for i in range(len(vector1)):\n",
    "        output += vector1[i] * vector2[i]\n",
    "    return output"
   ]
  },
  {
   "cell_type": "code",
   "execution_count": 3,
   "metadata": {},
   "outputs": [],
   "source": [
    "def norm(vector):\n",
    "    \"\"\"\n",
    "    Description\n",
    "    -----------\n",
    "    This function takes a vector and returns the norm of the vector.\n",
    "\n",
    "    Parameters\n",
    "    ----------\n",
    "    vector : list\n",
    "    \"\"\"\n",
    "    output = 0\n",
    "    for i in range(len(vector)):\n",
    "        output += vector[i] ** 2\n",
    "    if output < 1e-10: # If the output is very close to 0, return 0\n",
    "        return 0\n",
    "    return math.sqrt(output)"
   ]
  },
  {
   "cell_type": "code",
   "execution_count": 4,
   "metadata": {},
   "outputs": [],
   "source": [
    "def GrahmSchmidt(vector_set):\n",
    "    \"\"\"\n",
    "    Description\n",
    "    -----------\n",
    "    This function takes a set of vectors and returns a set of orthogonal vectors using the Gram-Schmidt process.\n",
    "\n",
    "    Parameters\n",
    "    ----------\n",
    "    vector_set : list of list\n",
    "    \n",
    "    Returns\n",
    "    -------\n",
    "    orthogonal_basis : list of lists\n",
    "\n",
    "    linearly_dependent_vectors : list of lists\n",
    "    \"\"\"\n",
    "    n = len(vector_set)\n",
    "    if n == 0:\n",
    "        return []\n",
    "    else:\n",
    "        linearly_dependent_vectors = []\n",
    "        orthonormal_basis = []\n",
    "        for i in range(n):\n",
    "            if i == 0:\n",
    "                cache = norm(vector_set[0]) # cache is the norm of the first vector for normalization\n",
    "                orthonormal_basis.append([vector_set[0][j]/cache for j in range(len(vector_set[0]))])\n",
    "            else:\n",
    "                temp = vector_set[i]\n",
    "                for j in range(i):\n",
    "                    # Finding the projection of vector[i] on the orthogonal complement of the span of the previous vectors\n",
    "                    cache = dotProduct(orthonormal_basis[j], vector_set[i]) / (norm(orthonormal_basis[j]) ** 2) # cache is the dot product of the two vectors divided by the norm square (Projection)\n",
    "                    # Subtracting the projection from the vector\n",
    "                    temp = [temp[k] - cache * orthonormal_basis[j][k] for k in range(len(temp))]\n",
    "                \n",
    "                # If the vector can be written as a linear combination of the previous vectors, then it is linearly dependent and temp will be 0\n",
    "                if norm(temp) == 0:\n",
    "                    linearly_dependent_vectors.append(vector_set[i])\n",
    "                else:\n",
    "                    orthonormal_basis.append(temp)\n",
    "\n",
    "    return orthonormal_basis, linearly_dependent_vectors"
   ]
  },
  {
   "cell_type": "code",
   "execution_count": 5,
   "metadata": {},
   "outputs": [],
   "source": [
    "set_vectors = [[1,2,3],\n",
    "               [2,3,4],\n",
    "               [4,5,6]]"
   ]
  },
  {
   "cell_type": "code",
   "execution_count": 6,
   "metadata": {},
   "outputs": [],
   "source": [
    "basis, depedent_vectors = GrahmSchmidt(set_vectors)"
   ]
  },
  {
   "cell_type": "code",
   "execution_count": 7,
   "metadata": {},
   "outputs": [
    {
     "name": "stdout",
     "output_type": "stream",
     "text": [
      "The set of orthonormal vectors is:  [[0.2672612419124244, 0.5345224838248488, 0.8017837257372732], [0.5714285714285714, 0.1428571428571428, -0.2857142857142856]]\n",
      "The set of linearly dependent vectors in the original set:  [[4, 5, 6]]\n"
     ]
    }
   ],
   "source": [
    "print(\"The set of orthonormal vectors is: \", basis)\n",
    "print(\"The set of linearly dependent vectors in the original set: \", depedent_vectors)"
   ]
  }
 ],
 "metadata": {
  "kernelspec": {
   "display_name": "pytorch_env",
   "language": "python",
   "name": "python3"
  },
  "language_info": {
   "codemirror_mode": {
    "name": "ipython",
    "version": 3
   },
   "file_extension": ".py",
   "mimetype": "text/x-python",
   "name": "python",
   "nbconvert_exporter": "python",
   "pygments_lexer": "ipython3",
   "version": "3.9.13"
  },
  "orig_nbformat": 4
 },
 "nbformat": 4,
 "nbformat_minor": 2
}
